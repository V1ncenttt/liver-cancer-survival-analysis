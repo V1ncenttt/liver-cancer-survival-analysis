{
 "cells": [
  {
   "cell_type": "code",
   "execution_count": 10,
   "metadata": {},
   "outputs": [],
   "source": [
    "###Importations###\n",
    "\n",
    "import pandas as pd\n",
    "import seaborn as sns\n",
    "import matplotlib.pyplot as plt\n",
    "import pandas as pd\n",
    "from sklearn.decomposition import PCA\n",
    "from sklearn.preprocessing import StandardScaler"
   ]
  },
  {
   "cell_type": "code",
   "execution_count": 23,
   "metadata": {},
   "outputs": [],
   "source": [
    "###Préparation des dataframes###\n",
    "\n",
    "df= pd.read_excel('liver-cancer-survival-analysis/data/radiomiques_global.xlsx')\n",
    "df_inutiles=df.filter(like=\"diagnostics_\").columns\n",
    "df=df.drop(df_inutiles,axis=1)\n",
    "df=df.drop([\"Column1\"],axis=1)\n",
    "ordre_personnalise = ['ART', 'VEIN', 'PORT', 'TARD']\n",
    "df['temps_inj'] = pd.Categorical(df['temps_inj'], categories=ordre_personnalise, ordered=True)\n",
    "df=df.groupby('classe_name', group_keys=False).apply(lambda x: x.sort_values(by=['patient_num','temps_inj']))\n",
    "dfCCK=df[df['classe_name']=='CCK']\n",
    "dfCHC=df[df['classe_name']=='CHC']\n",
    "dfMixtes=df[df['classe_name']=='Mixtes']\n",
    "\n",
    "\n",
    "\n",
    "#dfCCK.to_excel(\"radiomiques_CCK.xlsx\",index=False)\n",
    "#dfCHC.to_excel(\"radiomiques_CHC.xlsx\",index=False)\n",
    "#dfMixtes.to_excel(\"radiomiques_Mixtes.xlsx\",index=False)"
   ]
  },
  {
   "cell_type": "code",
   "execution_count": 25,
   "metadata": {},
   "outputs": [],
   "source": [
    "###Traitement dfCCK###\n",
    "dfCCK_ART= dfCCK[dfCCK['temps_inj']=='ART']\n",
    "dfCCK_ART= dfCCK_ART.drop([\"classe_name\",\"temps_inj\"],axis=1)\n",
    "dfCCK_ART.columns = [f\"{col}_{'ART'}\" if col != 'patient_num' else col for col in dfCCK_ART.columns]\n",
    "\n",
    "dfCCK_VEIN= dfCCK[dfCCK['temps_inj']=='VEIN']\n",
    "dfCCK_VEIN= dfCCK_VEIN.drop([\"classe_name\",\"temps_inj\"],axis=1)\n",
    "dfCCK_VEIN.columns = [f\"{col}_{'VEIN'}\" if col != 'patient_num' else col for col in dfCCK_VEIN.columns]\n",
    "\n",
    "dfCCK_PORT= dfCCK[dfCCK['temps_inj']=='PORT']\n",
    "dfCCK_PORT= dfCCK_PORT.drop([\"classe_name\",\"temps_inj\"],axis=1)\n",
    "dfCCK_PORT.columns = [f\"{col}_{'PORT'}\" if col != 'patient_num' else col for col in dfCCK_PORT.columns]\n",
    "\n",
    "dfCCK_TARD= dfCCK[dfCCK['temps_inj']=='VEIN']\n",
    "dfCCK_TARD= dfCCK_TARD.drop([\"classe_name\",\"temps_inj\"],axis=1)\n",
    "dfCCK_TARD.columns = [f\"{col}_{'TARD'}\" if col != 'patient_num' else col for col in dfCCK_TARD.columns]\n",
    "\n",
    "dfCCK_merged = dfCCK_ART.merge(dfCCK_VEIN, on='patient_num', how='outer') \\\n",
    "               .merge(dfCCK_PORT, on='patient_num', how='outer') \\\n",
    "               .merge(dfCCK_TARD, on='patient_num', how='outer')\n",
    "\n",
    "dfCCK_merged.to_excel(\"radiomiques_CCK_new.xlsx\",index=False)"
   ]
  },
  {
   "cell_type": "code",
   "execution_count": 26,
   "metadata": {},
   "outputs": [],
   "source": [
    "###Traitement dfCHC###\n",
    "dfCHC_ART = dfCHC[dfCHC['temps_inj'] == 'ART']\n",
    "dfCHC_ART = dfCHC_ART.drop([\"classe_name\", \"temps_inj\"], axis=1)\n",
    "dfCHC_ART.columns = [f\"{col}_{'ART'}\" if col != 'patient_num' else col for col in dfCHC_ART.columns]\n",
    "\n",
    "dfCHC_VEIN = dfCHC[dfCHC['temps_inj'] == 'VEIN']\n",
    "dfCHC_VEIN = dfCHC_VEIN.drop([\"classe_name\", \"temps_inj\"], axis=1)\n",
    "dfCHC_VEIN.columns = [f\"{col}_{'VEIN'}\" if col != 'patient_num' else col for col in dfCHC_VEIN.columns]\n",
    "\n",
    "dfCHC_PORT = dfCHC[dfCHC['temps_inj'] == 'PORT']\n",
    "dfCHC_PORT = dfCHC_PORT.drop([\"classe_name\", \"temps_inj\"], axis=1)\n",
    "dfCHC_PORT.columns = [f\"{col}_{'PORT'}\" if col != 'patient_num' else col for col in dfCHC_PORT.columns]\n",
    "\n",
    "dfCHC_TARD = dfCHC[dfCHC['temps_inj'] == 'VEIN']\n",
    "dfCHC_TARD = dfCHC_TARD.drop([\"classe_name\", \"temps_inj\"], axis=1)\n",
    "dfCHC_TARD.columns = [f\"{col}_{'TARD'}\" if col != 'patient_num' else col for col in dfCHC_TARD.columns]\n",
    "\n",
    "dfCHC_merged = dfCHC_ART.merge(dfCHC_VEIN, on='patient_num', how='outer') \\\n",
    "               .merge(dfCHC_PORT, on='patient_num', how='outer') \\\n",
    "               .merge(dfCHC_TARD, on='patient_num', how='outer')\n",
    "\n",
    "dfCHC_merged.to_excel(\"radiomiques_CHC_new.xlsx\", index=False)\n"
   ]
  },
  {
   "cell_type": "code",
   "execution_count": 27,
   "metadata": {},
   "outputs": [],
   "source": [
    "###Traitement dfMixtes###\n",
    "dfMixtes_ART = dfMixtes[dfMixtes['temps_inj'] == 'ART']\n",
    "dfMixtes_ART = dfMixtes_ART.drop([\"classe_name\", \"temps_inj\"], axis=1)\n",
    "dfMixtes_ART.columns = [f\"{col}_{'ART'}\" if col != 'patient_num' else col for col in dfMixtes_ART.columns]\n",
    "\n",
    "dfMixtes_VEIN = dfMixtes[dfMixtes['temps_inj'] == 'VEIN']\n",
    "dfMixtes_VEIN = dfMixtes_VEIN.drop([\"classe_name\", \"temps_inj\"], axis=1)\n",
    "dfMixtes_VEIN.columns = [f\"{col}_{'VEIN'}\" if col != 'patient_num' else col for col in dfMixtes_VEIN.columns]\n",
    "\n",
    "dfMixtes_PORT = dfMixtes[dfMixtes['temps_inj'] == 'PORT']\n",
    "dfMixtes_PORT = dfMixtes_PORT.drop([\"classe_name\", \"temps_inj\"], axis=1)\n",
    "dfMixtes_PORT.columns = [f\"{col}_{'PORT'}\" if col != 'patient_num' else col for col in dfMixtes_PORT.columns]\n",
    "\n",
    "dfMixtes_TARD = dfMixtes[dfMixtes['temps_inj'] == 'VEIN']\n",
    "dfMixtes_TARD = dfMixtes_TARD.drop([\"classe_name\", \"temps_inj\"], axis=1)\n",
    "dfMixtes_TARD.columns = [f\"{col}_{'TARD'}\" if col != 'patient_num' else col for col in dfMixtes_TARD.columns]\n",
    "\n",
    "dfMixtes_merged = dfMixtes_ART.merge(dfMixtes_VEIN, on='patient_num', how='outer') \\\n",
    "               .merge(dfMixtes_PORT, on='patient_num', how='outer') \\\n",
    "               .merge(dfMixtes_TARD, on='patient_num', how='outer')\n",
    "\n",
    "dfMixtes_merged.to_excel(\"radiomiques_Mixtes_new.xlsx\", index=False)\n"
   ]
  },
  {
   "cell_type": "code",
   "execution_count": 21,
   "metadata": {},
   "outputs": [],
   "source": [
    "###Standardisation des données###\n",
    "\n",
    "features = df.columns[3:]\n",
    "df.loc[:, features] = StandardScaler().fit_transform(df.loc[:, features])\n",
    "\n",
    "df.to_excel(\"radiomiques_global_new1.xlsx\",index=False)"
   ]
  },
  {
   "cell_type": "code",
   "execution_count": null,
   "metadata": {},
   "outputs": [],
   "source": [
    "###ACP###\n",
    "\n",
    "pca = PCA(n_components=2)\n",
    "principalComponents = pca.fit_transform(df_stand)\n",
    "\n",
    "principalDf = pd.DataFrame(data=principalComponents, columns=['principal component 1', 'principal component 2'])\n",
    "\n",
    "# Afficher les premières lignes du DataFrame des composantes principales\n",
    "print(\"\\nComposantes principales:\")\n",
    "print(principalDf.head())\n",
    "\n",
    "# Calculer le pourcentage de variance expliqué par chaque composante\n",
    "explained_variance = pca.explained_variance_ratio_\n",
    "\n",
    "# Afficher le pourcentage de variance expliqué par les deux premières composantes principales\n",
    "print(\"\\nPourcentage de variance expliqué par chaque composante principale:\")\n",
    "print(f\"Composante principale 1: {explained_variance[0] * 100:.2f}%\")\n",
    "print(f\"Composante principale 2: {explained_variance[1] * 100:.2f}%\")\n",
    "print(f\"Variance totale expliquée par les deux premières composantes: {sum(explained_variance) * 100:.2f}%\")\n",
    "\n",
    "# Tracer les deux premières composantes principales\n",
    "plt.figure(figsize=(8, 6))\n",
    "plt.scatter(principalDf['principal component 1'], principalDf['principal component 2'])\n",
    "plt.xlabel('Principal Component 1')\n",
    "plt.ylabel('Principal Component 2')\n",
    "plt.title('2 component PCA')\n",
    "plt.show()"
   ]
  }
 ],
 "metadata": {
  "kernelspec": {
   "display_name": "Python 3",
   "language": "python",
   "name": "python3"
  },
  "language_info": {
   "codemirror_mode": {
    "name": "ipython",
    "version": 3
   },
   "file_extension": ".py",
   "mimetype": "text/x-python",
   "name": "python",
   "nbconvert_exporter": "python",
   "pygments_lexer": "ipython3",
   "version": "3.11.5"
  }
 },
 "nbformat": 4,
 "nbformat_minor": 2
}
